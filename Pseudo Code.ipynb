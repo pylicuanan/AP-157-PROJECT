{
 "cells": [
  {
   "cell_type": "code",
   "execution_count": null,
   "id": "5c921647-a556-401f-94da-0e1005b6ee6f",
   "metadata": {},
   "outputs": [],
   "source": [
    "#Reference CV2 video Capturing Code: \n",
    "import cv2 # See video 1 for installation\n",
    "\n",
    "# Replace \"0\" with a file path to work with a saved video\n",
    "stream = cv2.VideoCapture(0)\n",
    "\n",
    "if not stream.isOpened():\n",
    "    print(\"No stream :(\")\n",
    "    exit()\n",
    "\n",
    "fps = stream.get(cv2.CAP_PROP_FPS)\n",
    "width = int(stream.get(3))\n",
    "height = int(stream.get(4))\n",
    "\n",
    "# list of FourCC video codes: https://softron.zendesk.com/hc/en-us/articles/207695697-List-of-FourCC-codes-for-video-codecs\n",
    "output = cv2.VideoWriter(\"assets/4_stream.mp4\",\n",
    "            cv2.VideoWriter_fourcc('m', 'p', '4', 'v'),\n",
    "            fps=fps, frameSize=(width, height))\n",
    "\n",
    "while True:\n",
    "    ret, frame = stream.read()\n",
    "    if not ret: # if no frames are returned\n",
    "        print(\"No more stream :(\")\n",
    "        break\n",
    "    \n",
    "    frame = cv2.resize(frame, (width, height))\n",
    "    output.write(frame)\n",
    "    cv2.imshow(\"Webcam!\", frame)\n",
    "    if cv2.waitKey(1) == ord('q'): # press \"q\" to quit\n",
    "        break\n",
    "\n",
    "stream.release()\n",
    "cv2.destroyAllWindows() "
   ]
  },
  {
   "cell_type": "code",
   "execution_count": null,
   "id": "be3ba01e-a9db-4ad8-a4ac-ba8d69ab9082",
   "metadata": {},
   "outputs": [],
   "source": [
    "#Reference for Reference CV2 code: \n",
    "#samwestby(2022). OpenCV-Python-Tutorial. https://github.com/samwestby/OpenCV-Python-Tutorial/blob/main/4_video.py"
   ]
  },
  {
   "cell_type": "code",
   "execution_count": null,
   "id": "1e847f51-3d5a-49ac-9008-56b3df88f23f",
   "metadata": {},
   "outputs": [],
   "source": [
    "#Pseudo Code \n",
    "Record Video\n",
    "\tStandardize \"toss procedure\"\n",
    "\t\tevery 4 seconds capture image then check image if to save \n",
    "            if coins detected == to total value of coins \n",
    "                return save\n",
    "            else\n",
    "                return    \n",
    "\n",
    "Process Images\n",
    "\tPreprocess image\n",
    "\tTwo convolution methods - one for heads, another for tails\n",
    "\t\n",
    "\tCoin is identified via thresholding, \n",
    "\tthreshold tbd via training data\n"
   ]
  }
 ],
 "metadata": {
  "kernelspec": {
   "display_name": "Python 3 (ipykernel)",
   "language": "python",
   "name": "python3"
  },
  "language_info": {
   "codemirror_mode": {
    "name": "ipython",
    "version": 3
   },
   "file_extension": ".py",
   "mimetype": "text/x-python",
   "name": "python",
   "nbconvert_exporter": "python",
   "pygments_lexer": "ipython3",
   "version": "3.12.0"
  }
 },
 "nbformat": 4,
 "nbformat_minor": 5
}
